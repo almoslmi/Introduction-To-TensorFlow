{
 "cells": [
  {
   "cell_type": "markdown",
   "metadata": {},
   "source": [
    "## Sentiment Analysis With TensorFlow and LSTM Network\n",
    "----"
   ]
  },
  {
   "cell_type": "markdown",
   "metadata": {},
   "source": [
    "### Overview\n",
    "\n",
    "#### Data\n",
    "- using [IMDb Movie Review dataset](https://keras.io/datasets/#imdb-movie-reviews-sentiment-classification) containing 25K movie reviews (12.5K positive / 12.5K negative)\n",
    "\n",
    "#### Input Representation\n",
    "- using lexicon of 400,000 word vectors provided by [GloVe](https://nlp.stanford.edu/projects/glove/)\n",
    "- map each movie review to it's corresponding list of word vectors\n",
    "\n",
    "#### Recurrent Neural Networks\n",
    "- Recurrent Neural Networks (RNN) are a type of neural network with loops\n",
    "- Hidden layer outputs are now a function of current input x<sub>t</sub> and one or more previous inputs x<sub>t-1</sub>\n",
    "    - great solution for problems involving sequences (speech, text, music, stocks, etc)\n",
    "\n",
    "#### Long Short-Term Memory (LSTM) Networks\n",
    "- [LSTM Networks](http://colah.github.io/posts/2015-08-Understanding-LSTMs/) are a type of RNN that is capable of learning longer distance dependencies than traditional RNNs\n",
    "- LSTM units contain gates which allow it to remember and forget previous inputs\n",
    "    - even better for NLP problems where we are working with sequence of words, because words have long distance dependencies\n",
    "        \n",
    "#### Goal\n",
    "- to use a Long Short-Term Memory (LSTM) Network to predict if a movie review is positive or negative with high accuracy\n",
    "\n",
    "----\n",
    "\n",
    "All credit goes to [Adit Deshpande](https://www.oreilly.com/learning/perform-sentiment-analysis-with-lstms-using-tensorflow), the foundation of this project was laid with his tutorial.\n",
    "\n",
    "\n",
    "Lets get started"
   ]
  },
  {
   "cell_type": "code",
   "execution_count": 1,
   "metadata": {},
   "outputs": [],
   "source": [
    "import numpy as np\n",
    "import tensorflow as tf\n",
    "import re\n",
    "from os import listdir\n",
    "from os.path import isfile, join\n",
    "import datetime\n",
    "import matplotlib.pyplot as plt\n",
    "from random import randint"
   ]
  },
  {
   "cell_type": "markdown",
   "metadata": {},
   "source": [
    "### Creating Word Vectors"
   ]
  },
  {
   "cell_type": "markdown",
   "metadata": {},
   "source": [
    "- must convert movie review text to scalar input for neural network\n",
    "- word vectors are able to represent context, meaning, and semantics\n",
    "    - similar words or similar parts of speech will have vector definitions with high similarity\n",
    "- many advantages over traditional bag of words models\n",
    "- to save time we will use word vectors provided by [GloVe](https://nlp.stanford.edu/projects/glove/) (Global Vectors for Word Representation)\n",
    "- alternatively, one could train model to create word vectors, TensorFlow offers a [tutorial on Word2Vec](https://www.tensorflow.org/tutorials/word2vec)"
   ]
  },
  {
   "cell_type": "code",
   "execution_count": 2,
   "metadata": {},
   "outputs": [
    {
     "name": "stdout",
     "output_type": "stream",
     "text": [
      "('Loaded total words = ', 400000)\n",
      "('Word Vector shape = ', (400000, 50))\n"
     ]
    }
   ],
   "source": [
    "# load lexicon word list and decode\n",
    "wordsList = np.load('lexicon/wordsList.npy')\n",
    "wordsList = list(map(lambda word: word.decode('UTF-8'), wordsList))\n",
    "\n",
    "# load word vector representation for each word in lexicon\n",
    "wordVectors = np.load('lexicon/wordVectors.npy')\n",
    "\n",
    "print ('Loaded total words = ', len(wordsList))\n",
    "print('Word Vector shape = ', wordVectors.shape)"
   ]
  },
  {
   "cell_type": "markdown",
   "metadata": {},
   "source": [
    "- we can see that GloVe has provided us 400,000 words in their word vector list\n",
    "- also note that each word vector has dimensionality of 50"
   ]
  },
  {
   "cell_type": "markdown",
   "metadata": {},
   "source": [
    "### Load Movie Reviews"
   ]
  },
  {
   "cell_type": "markdown",
   "metadata": {},
   "source": [
    "- the movie data set is split into 2 directories, positive and negative\n",
    "- in each directory, there is 1 file per review"
   ]
  },
  {
   "cell_type": "code",
   "execution_count": 3,
   "metadata": {},
   "outputs": [],
   "source": [
    "positiveDir = 'data/positiveReviews/'\n",
    "negativeDir = 'data/negativeReviews/'\n",
    "\n",
    "# create list of positive files\n",
    "positiveFiles = []\n",
    "for file in listdir(positiveDir):\n",
    "    if isfile(join(positiveDir, file)):\n",
    "        positiveFiles.append(join(positiveDir, file))\n",
    "\n",
    "# create list of negative files\n",
    "negativeFiles = []\n",
    "for file in listdir(negativeDir):\n",
    "    if isfile(join(negativeDir, file)):\n",
    "        negativeFiles.append(join(negativeDir, file))"
   ]
  },
  {
   "cell_type": "markdown",
   "metadata": {},
   "source": [
    "### Data Analysis\n",
    "- first we will view file count, word count, and avg words per file\n",
    "- then we use a histogram to examine movie review word length distribution"
   ]
  },
  {
   "cell_type": "code",
   "execution_count": 72,
   "metadata": {},
   "outputs": [
    {
     "name": "stdout",
     "output_type": "stream",
     "text": [
      "('File Count: ', 25000)\n",
      "('Positive Files: ', 12500)\n",
      "('Negative Files: ', 12500)\n",
      "('Word Count: ', 5844464)\n",
      "('Avg Words per File: ', 233)\n"
     ]
    }
   ],
   "source": [
    "# count words to get better idea of our data\n",
    "\n",
    "wordCount = []\n",
    "\n",
    "for file in positiveFiles:\n",
    "    with open(file, \"r\") as f:\n",
    "        line = f.readline()\n",
    "        counter = len(line.split())\n",
    "        wordCount.append(counter)       \n",
    "\n",
    "for file in negativeFiles:\n",
    "    with open(file, \"r\") as f:\n",
    "        line = f.readline()\n",
    "        counter = len(line.split())\n",
    "        wordCount.append(counter)  \n",
    "\n",
    "fileCount = len(wordCount)\n",
    "\n",
    "print('File Count: ', fileCount)\n",
    "print('Positive Files: ', len(positiveFiles))\n",
    "print('Negative Files: ', len(negativeFiles))\n",
    "print('Word Count: ', sum(wordCount))\n",
    "print('Avg Words per File: ', sum(wordCount)/len(wordCount))"
   ]
  },
  {
   "cell_type": "code",
   "execution_count": 5,
   "metadata": {},
   "outputs": [
    {
     "data": {
      "image/png": "[encoded data removed]",
      "text/plain": [
       "<Figure size 432x288 with 1 Axes>"
      ]
     },
     "metadata": {},
     "output_type": "display_data"
    }
   ],
   "source": [
    "%matplotlib inline\n",
    "plt.hist(x=wordCount, bins=100)\n",
    "plt.title('Sequence Length Histogram')\n",
    "plt.xlabel('Sequence Length')\n",
    "plt.ylabel('Frequency')\n",
    "plt.grid(True)\n",
    "plt.axis([0, 1050, 0, 4000])\n",
    "plt.show()"
   ]
  },
  {
   "cell_type": "markdown",
   "metadata": {},
   "source": [
    "- looks like most words have length 50 - 250 words\n",
    "- we will define a maximum sequence length of 250 words\n",
    "    - later we will try a maximum sequence length of 400 words to see if it makes any improvements\n",
    "    - potentially, longer sequence length will provides more information at cost of time and space complexity"
   ]
  },
  {
   "cell_type": "code",
   "execution_count": 6,
   "metadata": {},
   "outputs": [],
   "source": [
    "# defining movie review dimensionality\n",
    "maxSeqLength = 250\n",
    "\n",
    "# word vector length as provided by GloVe\n",
    "wordVecLength = 50"
   ]
  },
  {
   "cell_type": "code",
   "execution_count": 7,
   "metadata": {},
   "outputs": [
    {
     "name": "stdout",
     "output_type": "stream",
     "text": [
      "For a movie that gets no respect there sure are a lot of memorable quotes listed for this gem. Imagine a movie where Joe Piscopo is actually funny! Maureen Stapleton is a scene stealer. The Moroni character is an absolute scream. Watch for Alan \"The Skipper\" Hale jr. as a police Sgt.\n"
     ]
    }
   ],
   "source": [
    "# let's preview a movie review\n",
    "fname = positiveFiles[0]\n",
    "with open(fname) as f:\n",
    "    for lines in f:\n",
    "        print(lines)"
   ]
  },
  {
   "cell_type": "code",
   "execution_count": 8,
   "metadata": {},
   "outputs": [],
   "source": [
    "# looks like we will need to remove punctuation and apply case folding\n",
    "# other nlp processing tasks can be applied here during tuning\n",
    "\n",
    "# helper function for cleaning text\n",
    "# case folding and removing special characters\n",
    "strip_special_chars = re.compile(\"[^A-Za-z0-9 ]+\")\n",
    "def cleanText(string):\n",
    "    string = string.lower().replace(\"<br />\", \" \")\n",
    "    return re.sub(strip_special_chars, \"\", string.lower())"
   ]
  },
  {
   "cell_type": "markdown",
   "metadata": {},
   "source": [
    "### Mapping Movie Reviews to Word Vectors\n",
    "- convert each text file (review) to a word indices vector, where the indice corresponds to the indices in the lexicon provided by GloVe\n",
    "- this review - word indices matrix will allow us to look up embeddings when it comes time to train our model \n",
    "- save this mapping once complete, takes about 20 minutes to run"
   ]
  },
  {
   "cell_type": "code",
   "execution_count": 9,
   "metadata": {},
   "outputs": [],
   "source": [
    "# commenting this out, no need to run again, takes 20 minutes total\n",
    "\n",
    "# %%time\n",
    "\n",
    "# # we need to convert each file (individual review) to word indice vector\n",
    "# # resulting file representation will be vector of indices, each indice corresponding to original word\n",
    "\n",
    "# # create empty word indices matrix\n",
    "# reviewWordIndices = np.zeros((fileCount, maxSeqLength), dtype='int32')\n",
    "\n",
    "# fileCounter = 0\n",
    "\n",
    "# # process positive files\n",
    "# for file in positiveFiles:\n",
    "#     with open(file, \"r\", encoding='utf-8') as f:\n",
    "#         idx = 0\n",
    "#         # clean and tokenize\n",
    "#         line = f.readline()\n",
    "#         line = cleanText(line)\n",
    "#         line = line.split()\n",
    "#         # store index for each word\n",
    "#         for word in line:\n",
    "#             try:\n",
    "#                 reviewWordIndices[fileCounter][idx] = wordsList.index(word)\n",
    "#             except ValueError:\n",
    "#                 reviewWordIndices[fileCounter][idx] = 399999 # Unknown word vector\n",
    "#             idx += 1\n",
    "#             if idx >= maxSeqLength:\n",
    "#                 break\n",
    "#         if fileCounter % 100 is 0:\n",
    "#             print('Completed positive file ', fileCounter)\n",
    "#         fileCounter += 1\n",
    "\n",
    "        \n",
    "# print('Positive files complete!')\n",
    "\n",
    "\n",
    "# # repeat same process for negative files\n",
    "# for file in negativeFiles:\n",
    "#     with open(file, \"r\", encoding='utf-8') as f:\n",
    "#         idx = 0\n",
    "#         # clean and tokenize\n",
    "#         line = f.readline()\n",
    "#         line = cleanText(line)\n",
    "#         line = line.split()\n",
    "#         # store index for each word\n",
    "#         for word in line:\n",
    "#             try:\n",
    "#                 reviewWordIndices[fileCounter][idx] = wordsList.index(word)\n",
    "#             except ValueError:\n",
    "#                 reviewWordIndices[fileCounter][idx] = 399999 # Unknown word vector\n",
    "#             idx += 1\n",
    "#             if idx >= maxSeqLength:\n",
    "#                 break\n",
    "#         if fileCounter % 100 is 0:\n",
    "#             print('Completed negative file ', fileCounter)\n",
    "#         fileCounter += 1\n",
    "\n",
    "        \n",
    "# print('Negative files complete!')\n",
    "\n",
    "\n",
    "# # Save our matrix to file\n",
    "# np.save('data/wordIndicesMatrix', reviewWordIndices)"
   ]
  },
  {
   "cell_type": "code",
   "execution_count": 13,
   "metadata": {},
   "outputs": [
    {
     "name": "stdout",
     "output_type": "stream",
     "text": [
      "(25000, 250)\n"
     ]
    },
    {
     "data": {
      "text/plain": [
       "array([  9520,   5988,   1005,   2703,     17,   1613,   1919,     34,\n",
       "         4705,     21,  19664,  26435,    168,      3,  17099,  35115,\n",
       "          586,     19,      7,   1922,     34,   3779,  11178,   1423,\n",
       "           17,      7,  71488,   6107,     38,     14,   7866,      4,\n",
       "          642,     10,     71,   3181,  18018,     21,  11863, 201534,\n",
       "         9815,      4,   5613, 201534,   3468,     17,  26435,  12246,\n",
       "           32,    191,    143,   2053, 201534,   5030,    403,     14,\n",
       "         2615,  11280, 206163,     14,  12387,     19, 149242,  12138,\n",
       "           34,     61,  26435,   2478,     75,      7,  24674,   4430,\n",
       "         5624,  44695,  10338,     21,      7,   5651,   4314,     13,\n",
       "       201534,    220,   1583,    654,    588,    465,   5015, 201534,\n",
       "         3545,    144,      7,  59406,  16313,  17725,  16375,      5,\n",
       "        43146,   1334,  16239,    679,   8575, 393493,     32,      7,\n",
       "        45616,    530,      5,  12725,  43488,     14,    353,   2905,\n",
       "           19,      7,  32358,    142,   6634, 201534,   1005,     14,\n",
       "          573,      7, 399999,      3, 399999,   2232,      5, 201534,\n",
       "       399999,    102,      7,   3398,    243,     13, 201534,  22533,\n",
       "           21,   6806, 399999, 201534,  17160,     14, 104926,  31809,\n",
       "          549,      3,  15637,    845,    138,    143,     21,    369,\n",
       "          785,   1364,     38,  18987,      7,  52332,  31318,   1945,\n",
       "           17,   7404,    421,     25,      0,      0,      0,      0,\n",
       "            0,      0,      0,      0,      0,      0,      0,      0,\n",
       "            0,      0,      0,      0,      0,      0,      0,      0,\n",
       "            0,      0,      0,      0,      0,      0,      0,      0,\n",
       "            0,      0,      0,      0,      0,      0,      0,      0,\n",
       "            0,      0,      0,      0,      0,      0,      0,      0,\n",
       "            0,      0,      0,      0,      0,      0,      0,      0,\n",
       "            0,      0,      0,      0,      0,      0,      0,      0,\n",
       "            0,      0,      0,      0,      0,      0,      0,      0,\n",
       "            0,      0,      0,      0,      0,      0,      0,      0,\n",
       "            0,      0,      0,      0,      0,      0,      0,      0,\n",
       "            0,      0], dtype=int32)"
      ]
     },
     "execution_count": 13,
     "metadata": {},
     "output_type": "execute_result"
    }
   ],
   "source": [
    "# load our word indices matrix into memory\n",
    "wordIndicesMatrix = np.load('data/wordIndicesMatrix.npy')\n",
    "\n",
    "# inspect shape of our document - wordIndice matrix\n",
    "# Expecting:\n",
    "# 25K movie reviews\n",
    "# maximum review length of 250\n",
    "print wordIndicesMatrix.shape\n",
    "\n",
    "# preview a movie review representation\n",
    "wordIndicesMatrix[1]"
   ]
  },
  {
   "cell_type": "markdown",
   "metadata": {},
   "source": [
    "# Splitting Into Training / Test Sets\n",
    "- we are defining methods that will fetch batches of data during training and testing\n",
    "- there is room for improvement here, we are not shuffling the data"
   ]
  },
  {
   "cell_type": "code",
   "execution_count": 14,
   "metadata": {},
   "outputs": [],
   "source": [
    "# Some helper functions for getting training and test batches\n",
    "\n",
    "# we are using holdout of 8% for test data (2K reviews)\n",
    "\n",
    "# Training Set\n",
    "# 1 < positive training instances < 11499\n",
    "# 13499 < negative training instances < 24999\n",
    "# training set is 23,000 movie reviews\n",
    "# 11,500 positive, 11,500 negative\n",
    "def getTrainBatch():\n",
    "    labels = []\n",
    "    arr = np.zeros([batchSize, maxSeqLength])\n",
    "    # alternate between positive / negative instances\n",
    "    for i in range(batchSize):\n",
    "        if (i % 2 == 0): \n",
    "            # positive samples\n",
    "            num = randint(1,11499)\n",
    "            labels.append([1,0])\n",
    "        else:\n",
    "            # negative samples\n",
    "            num = randint(13499,24999)\n",
    "            labels.append([0,1])\n",
    "        arr[i] = wordIndicesMatrix[num-1:num]\n",
    "    return arr, labels\n",
    "\n",
    "\n",
    "# Test Set\n",
    "# we're getting test instances from indices\n",
    "# 11500 < test data < 13500\n",
    "# giving us 2K test instances, half positive and half negative\n",
    "def getTestBatch():\n",
    "    labels = []\n",
    "    arr = np.zeros([batchSize, maxSeqLength])\n",
    "    for i in range(batchSize):\n",
    "        num = randint(11499,13499)\n",
    "        if (num <= 12499):\n",
    "            labels.append([1,0])\n",
    "        else:\n",
    "            labels.append([0,1])\n",
    "        arr[i] = wordIndicesMatrix[num-1:num]\n",
    "    return arr, labels"
   ]
  },
  {
   "cell_type": "markdown",
   "metadata": {},
   "source": [
    "## Creating TensorFlow Graph for LSTM Network\n",
    "\n",
    "### Defining LSTM Network Parameters\n",
    "- 64 and 128 LSTM units were tested\n",
    "- increasing LSTM units should allow model to learn more complex patterns at the cost of increased resource (time and space) requirements"
   ]
  },
  {
   "cell_type": "code",
   "execution_count": 73,
   "metadata": {},
   "outputs": [],
   "source": [
    "# Define RNN and trianing params\n",
    "batchSize = 50\n",
    "lstmUnits = 64\n",
    "numClasses = 2\n",
    "epochs = 50000"
   ]
  },
  {
   "cell_type": "markdown",
   "metadata": {},
   "source": [
    "### Define The Graph\n",
    "- define the TensorFlow graph using TensorFlow Python API\n",
    "- organize like types and operations with name spaces to keep graph visualization clean"
   ]
  },
  {
   "cell_type": "code",
   "execution_count": 70,
   "metadata": {},
   "outputs": [],
   "source": [
    "tf.reset_default_graph()\n",
    "\n",
    "\n",
    "# placeholder for input features\n",
    "with tf.name_scope('Features'):\n",
    "    input_data = tf.placeholder(tf.int32, [batchSize, maxSeqLength], name=\"Features\")\n",
    "\n",
    "    \n",
    "# placeholder for input labels\n",
    "with tf.name_scope(\"Labels\"):\n",
    "    labels = tf.placeholder(tf.float32, [batchSize, numClasses], name=\"Labels\")\n",
    "\n",
    "        \n",
    "# placeholder for word vectors previously loaded from GloVe\n",
    "with tf.name_scope(\"WordVectors\"):\n",
    "    word_vectors = tf.placeholder(tf.float32, [400000, 50], name=\"WordVectors\")\n",
    "    \n",
    "    \n",
    "# operation - lookup word vector embedding for input features\n",
    "with tf.name_scope(\"EmbeddingLookup\"):\n",
    "    data = tf.Variable(tf.zeros([batchSize, maxSeqLength, wordVecLength]),dtype=tf.float32, name=\"Embedding\")\n",
    "    data = tf.nn.embedding_lookup(word_vectors, input_data)\n",
    "\n",
    "    \n",
    "# variable - weights initialized as random values from a truncated normal distribution\n",
    "with tf.name_scope(\"Weights\"):\n",
    "    weight = tf.Variable(tf.truncated_normal([lstmUnits, numClasses]), name=\"Weights\")\n",
    "\n",
    "    \n",
    "# variable - Bias initialized to 0.1\n",
    "with tf.name_scope(\"Bias\"):\n",
    "    bias = tf.Variable(tf.constant(0.1, shape=[numClasses]), name=\"Bias\")\n",
    "\n",
    "    \n",
    "# operations related to prediction\n",
    "# grabs output from RNN, multiplies by weights and adds bias\n",
    "with tf.name_scope(\"RNN\"):\n",
    "    lstmCell = tf.contrib.rnn.BasicLSTMCell(lstmUnits)\n",
    "    lstmCell = tf.contrib.rnn.DropoutWrapper(cell=lstmCell, output_keep_prob=0.75)\n",
    "    value, _ = tf.nn.dynamic_rnn(lstmCell, data, dtype=tf.float32)\n",
    "    value = tf.transpose(value, [1, 0, 2])\n",
    "    last = tf.gather(value, int(value.get_shape()[0]) - 1)\n",
    "    prediction = (tf.matmul(last, weight) + bias)\n",
    "    softmax = tf.nn.softmax_cross_entropy_with_logits(logits=prediction, labels=labels)\n",
    "    \n",
    "    \n",
    "# operation - accuracy calculation\n",
    "with tf.name_scope(\"Accuracy\"):\n",
    "    correctPred = tf.equal(tf.argmax(prediction,1), tf.argmax(labels,1))\n",
    "    accuracy = tf.reduce_mean(tf.cast(correctPred, tf.float32))\n",
    "    tf.summary.scalar('Accuracy', accuracy)\n",
    "    test_acc_summary = tf.summary.scalar('Accuracy', accuracy)\n",
    "    \n",
    "    \n",
    "# operation - loss calculation\n",
    "with tf.name_scope(\"Loss\"):\n",
    "    loss = tf.reduce_mean(softmax)\n",
    "    tf.summary.scalar('Loss', loss)\n",
    "\n",
    "    \n",
    "# define optimization strategy to be executed during training\n",
    "with tf.name_scope(\"Optimizer\"):\n",
    "    optimizer = tf.train.AdamOptimizer().minimize(loss)"
   ]
  },
  {
   "cell_type": "markdown",
   "metadata": {},
   "source": [
    "## Create Session and Execute TensorFlow Graph\n",
    "- initialize new session\n",
    "- create FileWriter instances to record results to Tensorboard\n",
    "- for each epoch: perform mini-batch optimization\n",
    "    - RNN is fed a sample of training data of batchSize\n",
    "    - error is calculated and model updated after each batch"
   ]
  },
  {
   "cell_type": "code",
   "execution_count": 71,
   "metadata": {},
   "outputs": [
    {
     "name": "stdout",
     "output_type": "stream",
     "text": [
      "saved to models/pretrained_lstm.ckpt-5000\n",
      "saved to models/pretrained_lstm.ckpt-10000\n",
      "saved to models/pretrained_lstm.ckpt-15000\n",
      "saved to models/pretrained_lstm.ckpt-20000\n",
      "saved to models/pretrained_lstm.ckpt-25000\n",
      "saved to models/pretrained_lstm.ckpt-30000\n",
      "saved to models/pretrained_lstm.ckpt-35000\n",
      "saved to models/pretrained_lstm.ckpt-40000\n",
      "saved to models/pretrained_lstm.ckpt-45000\n",
      "CPU times: user 4h 1min 20s, sys: 53min 9s, total: 4h 54min 30s\n",
      "Wall time: 1h 29min 58s\n"
     ]
    }
   ],
   "source": [
    "%%time\n",
    "\n",
    "\n",
    "# Init new session and saver to store checkpoints\n",
    "init = tf.global_variables_initializer()\n",
    "sess = tf.Session()\n",
    "saver = tf.train.Saver()\n",
    "sess.run(init)\n",
    "\n",
    "\n",
    "# create summary writers to store graph and chart metrics\n",
    "merged = tf.summary.merge_all()\n",
    "trainLogDir = \"tensorboard/graph_e50K_b50_lstm64_lr001_train\"\n",
    "writer = tf.summary.FileWriter(trainLogDir, sess.graph)\n",
    "\n",
    "\n",
    "# we create separate summary writer for test data evaluations\n",
    "# this is workaround to let us view train vs test accuracy on same plot\n",
    "testLogDir = \"tmpboard/graph_e50K_b50_lstm64_001)test\"\n",
    "testWriter = tf.summary.FileWriter(testLogDir)\n",
    "\n",
    "\n",
    "tenPercent = int(epochs * 0.1)\n",
    "\n",
    "\n",
    "for i in range(epochs):\n",
    "   # Train Batch of reviews\n",
    "   nextBatch, nextBatchLabels = getTrainBatch();\n",
    "   sess.run(optimizer, {word_vectors: wordVectors, input_data: nextBatch, labels: nextBatchLabels})\n",
    "\n",
    "\n",
    "   # Write summary to Tensorboard\n",
    "   if (i % 50 == 0):\n",
    "        summary = sess.run(merged, {word_vectors: wordVectors, input_data: nextBatch, labels: nextBatchLabels})\n",
    "        writer.add_summary(summary, i)\n",
    "        \n",
    "        testBatch, testLabels = getTestBatch()\n",
    "        test_summary_str = sess.run(test_acc_summary,{word_vectors: wordVectors, input_data: testBatch, labels: testLabels})\n",
    "        \n",
    "        testWriter.add_summary(test_summary_str, i)\n",
    "\n",
    "        \n",
    "   # Save the network every 10% completed\n",
    "   if (i % tenPercent == 0 and i != 0):\n",
    "       save_path = saver.save(sess, \"models/pretrained_lstm.ckpt\", global_step=i)\n",
    "       print(\"saved to %s\" % save_path)\n",
    "        \n",
    "\n",
    "writer.close()"
   ]
  },
  {
   "cell_type": "markdown",
   "metadata": {},
   "source": [
    "## Restoring A Saved Model\n",
    "- good practice for long problems is to store the network at checkpoints during training"
   ]
  },
  {
   "cell_type": "code",
   "execution_count": 19,
   "metadata": {},
   "outputs": [
    {
     "name": "stdout",
     "output_type": "stream",
     "text": [
      "INFO:tensorflow:Restoring parameters from models/pretrained_lstm.ckpt-45\n"
     ]
    }
   ],
   "source": [
    "# restore our model and check accuracy against test data\n",
    "sess = tf.InteractiveSession()\n",
    "saver = tf.train.Saver()\n",
    "saver.restore(sess, tf.train.latest_checkpoint('models'))"
   ]
  },
  {
   "cell_type": "code",
   "execution_count": 20,
   "metadata": {},
   "outputs": [
    {
     "name": "stdout",
     "output_type": "stream",
     "text": [
      "('Accuracy for this batch:', 62.00000047683716)\n",
      "('Accuracy for this batch:', 66.00000262260437)\n",
      "('Accuracy for this batch:', 47.999998927116394)\n",
      "('Accuracy for this batch:', 47.999998927116394)\n",
      "('Accuracy for this batch:', 57.999998331069946)\n",
      "('Accuracy for this batch:', 54.00000214576721)\n",
      "('Accuracy for this batch:', 54.00000214576721)\n",
      "('Accuracy for this batch:', 36.000001430511475)\n",
      "('Accuracy for this batch:', 54.00000214576721)\n",
      "('Accuracy for this batch:', 47.999998927116394)\n"
     ]
    }
   ],
   "source": [
    "iterations = 10\n",
    "for i in range(iterations):\n",
    "    nextBatch, nextBatchLabels = getTestBatch();\n",
    "    print(\"Accuracy for this batch:\", (sess.run(accuracy, {word_vectors: wordVectors, input_data: nextBatch, labels: nextBatchLabels})) * 100)"
   ]
  },
  {
   "cell_type": "markdown",
   "metadata": {},
   "source": [
    "## Visualization With TensorBoard\n",
    "- start up tensorboard server to view computation graph and training/testing evaluation metrics\n",
    "- we've named our tensorboard log directory 'tensorboard'\n",
    "```\n",
    "$ tensorboard --logdir tensorboard\n",
    "```"
   ]
  },
  {
   "cell_type": "markdown",
   "metadata": {},
   "source": []
  }
 ],
 "metadata": {
  "kernelspec": {
   "display_name": "Python 2",
   "language": "python",
   "name": "python2"
  },
  "language_info": {
   "codemirror_mode": {
    "name": "ipython",
    "version": 2
   },
   "file_extension": ".py",
   "mimetype": "text/x-python",
   "name": "python",
   "nbconvert_exporter": "python",
   "pygments_lexer": "ipython2",
   "version": "2.7.10"
  }
 },
 "nbformat": 4,
 "nbformat_minor": 2
}
